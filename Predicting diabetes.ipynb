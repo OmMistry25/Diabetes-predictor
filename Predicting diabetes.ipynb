{
 "cells": [
  {
   "cell_type": "markdown",
   "metadata": {},
   "source": [
    "# Predicting Diabetes\n",
    "By - Om Mistry"
   ]
  },
  {
   "cell_type": "markdown",
   "metadata": {},
   "source": [
    "## 1. Introduction"
   ]
  },
  {
   "cell_type": "code",
   "execution_count": 13,
   "metadata": {},
   "outputs": [],
   "source": [
    "#Imports here\n",
    "import pandas as pd                   \n",
    "import matplotlib.pyplot as plt        \n",
    "import seaborn as sns                  \n",
    "sns.set()  \n",
    "from sklearn.linear_model import LinearRegression\n",
    "import statsmodels.formula.api as smf\n",
    "from sklearn.model_selection import train_test_split\n",
    "import numpy as np\n",
    "from sklearn.metrics import confusion_matrix\n",
    "from sklearn.metrics import roc_auc_score\n",
    "from sklearn.metrics import roc_curve"
   ]
  },
  {
   "cell_type": "markdown",
   "metadata": {},
   "source": [
    "### **Data Introduction:** \n",
    "The dataset of interest is based on medical and demographic data from patients, along with their diabetes status (positive or negative). The data includes features such as age, gender, body mass index (BMI), hypertension, heart disease, smoking history, HbA1c level, and blood glucose level."
   ]
  },
  {
   "cell_type": "markdown",
   "metadata": {},
   "source": [
    "### **Motivation:** \n",
    "Motivations for our research are primarily for the following:\n",
    "1) Explore the relationship between variables like age, gender, body mass index (BMI), hypertension, heart disease, smoking history, blood glucose level on HbA1c level, and whether a patient would have diabetes or not.\n",
    "2) Predict whether a patient has diabetes status based on patient characteristics.\n",
    "\n",
    "By navigating different patient characteristics, health officials can identify individuals who are more at risk of developing diabetes status and prevent issues from worsening. "
   ]
  },
  {
   "cell_type": "markdown",
   "metadata": {},
   "source": [
    "### **Research Questions:** \n",
    "- Is there a relationship between the smoking history of an individual and their HbA1c level after controlling their age, and whether that person has heart disease and hypertension? \n",
    "- Is there a linear relationship between the log-odds of getting diabetes and bmi, hemoglobin levels, and blood glucose levels in the data?\n",
    "\n",
    "The first question can be used to identify how smoking history and HbA1c level interact with each other after controlling age, and whether that person has heart disease and hypertension. The second question can be helpful to know what the relationship between getting diabetes and bmi, hemoglobin levels, and blood glucose levels are. The information gained from asking these questions can help identify individuals at risk of diabetes."
   ]
  },
  {
   "cell_type": "markdown",
   "metadata": {},
   "source": [
    "## 2. Linear Regression Analytical Tasks"
   ]
  },
  {
   "cell_type": "markdown",
   "metadata": {},
   "source": [
    "**Research Question:**\n",
    "Is there a relationship between HbA1c_level and the smoking history of an individual after controlling the age, whether that person has heart disease and hypertension."
   ]
  },
  {
   "cell_type": "markdown",
   "metadata": {},
   "source": [
    "**Linear Regression Model:**"
   ]
  },
  {
   "cell_type": "code",
   "execution_count": 39,
   "metadata": {},
   "outputs": [
    {
     "data": {
      "text/html": [
       "<div>\n",
       "<style scoped>\n",
       "    .dataframe tbody tr th:only-of-type {\n",
       "        vertical-align: middle;\n",
       "    }\n",
       "\n",
       "    .dataframe tbody tr th {\n",
       "        vertical-align: top;\n",
       "    }\n",
       "\n",
       "    .dataframe thead th {\n",
       "        text-align: right;\n",
       "    }\n",
       "</style>\n",
       "<table border=\"1\" class=\"dataframe\">\n",
       "  <thead>\n",
       "    <tr style=\"text-align: right;\">\n",
       "      <th></th>\n",
       "      <th>gender</th>\n",
       "      <th>age</th>\n",
       "      <th>hypertension</th>\n",
       "      <th>heart_disease</th>\n",
       "      <th>smoking_history</th>\n",
       "      <th>bmi</th>\n",
       "      <th>HbA1c_level</th>\n",
       "      <th>blood_glucose_level</th>\n",
       "      <th>diabetes</th>\n",
       "    </tr>\n",
       "  </thead>\n",
       "  <tbody>\n",
       "    <tr>\n",
       "      <th>0</th>\n",
       "      <td>Female</td>\n",
       "      <td>80.0</td>\n",
       "      <td>0</td>\n",
       "      <td>1</td>\n",
       "      <td>never</td>\n",
       "      <td>25.19</td>\n",
       "      <td>6.6</td>\n",
       "      <td>140</td>\n",
       "      <td>0</td>\n",
       "    </tr>\n",
       "    <tr>\n",
       "      <th>1</th>\n",
       "      <td>Female</td>\n",
       "      <td>54.0</td>\n",
       "      <td>0</td>\n",
       "      <td>0</td>\n",
       "      <td>No Info</td>\n",
       "      <td>27.32</td>\n",
       "      <td>6.6</td>\n",
       "      <td>80</td>\n",
       "      <td>0</td>\n",
       "    </tr>\n",
       "    <tr>\n",
       "      <th>2</th>\n",
       "      <td>Male</td>\n",
       "      <td>28.0</td>\n",
       "      <td>0</td>\n",
       "      <td>0</td>\n",
       "      <td>never</td>\n",
       "      <td>27.32</td>\n",
       "      <td>5.7</td>\n",
       "      <td>158</td>\n",
       "      <td>0</td>\n",
       "    </tr>\n",
       "    <tr>\n",
       "      <th>3</th>\n",
       "      <td>Female</td>\n",
       "      <td>36.0</td>\n",
       "      <td>0</td>\n",
       "      <td>0</td>\n",
       "      <td>current</td>\n",
       "      <td>23.45</td>\n",
       "      <td>5.0</td>\n",
       "      <td>155</td>\n",
       "      <td>0</td>\n",
       "    </tr>\n",
       "    <tr>\n",
       "      <th>4</th>\n",
       "      <td>Male</td>\n",
       "      <td>76.0</td>\n",
       "      <td>1</td>\n",
       "      <td>1</td>\n",
       "      <td>current</td>\n",
       "      <td>20.14</td>\n",
       "      <td>4.8</td>\n",
       "      <td>155</td>\n",
       "      <td>0</td>\n",
       "    </tr>\n",
       "  </tbody>\n",
       "</table>\n",
       "</div>"
      ],
      "text/plain": [
       "   gender   age  hypertension  heart_disease smoking_history    bmi  \\\n",
       "0  Female  80.0             0              1           never  25.19   \n",
       "1  Female  54.0             0              0         No Info  27.32   \n",
       "2    Male  28.0             0              0           never  27.32   \n",
       "3  Female  36.0             0              0         current  23.45   \n",
       "4    Male  76.0             1              1         current  20.14   \n",
       "\n",
       "   HbA1c_level  blood_glucose_level  diabetes  \n",
       "0          6.6                  140         0  \n",
       "1          6.6                   80         0  \n",
       "2          5.7                  158         0  \n",
       "3          5.0                  155         0  \n",
       "4          4.8                  155         0  "
      ]
     },
     "execution_count": 39,
     "metadata": {},
     "output_type": "execute_result"
    }
   ],
   "source": [
    "df = pd.read_csv(\"diabetes_prediction_dataset.csv\", na_values = ['?'])\n",
    "df.head()"
   ]
  },
  {
   "cell_type": "code",
   "execution_count": 15,
   "metadata": {},
   "outputs": [],
   "source": [
    "df_train, df_test = train_test_split(df, test_size = 0.2, random_state = 1103)"
   ]
  },
  {
   "cell_type": "code",
   "execution_count": 16,
   "metadata": {},
   "outputs": [
    {
     "data": {
      "text/html": [
       "<table class=\"simpletable\">\n",
       "<caption>OLS Regression Results</caption>\n",
       "<tr>\n",
       "  <th>Dep. Variable:</th>       <td>HbA1c_level</td>   <th>  R-squared:         </th>  <td>   0.015</td>  \n",
       "</tr>\n",
       "<tr>\n",
       "  <th>Model:</th>                   <td>OLS</td>       <th>  Adj. R-squared:    </th>  <td>   0.015</td>  \n",
       "</tr>\n",
       "<tr>\n",
       "  <th>Method:</th>             <td>Least Squares</td>  <th>  F-statistic:       </th>  <td>   154.0</td>  \n",
       "</tr>\n",
       "<tr>\n",
       "  <th>Date:</th>             <td>Tue, 23 Apr 2024</td> <th>  Prob (F-statistic):</th>  <td>1.45e-258</td> \n",
       "</tr>\n",
       "<tr>\n",
       "  <th>Time:</th>                 <td>21:22:58</td>     <th>  Log-Likelihood:    </th> <td>-1.1826e+05</td>\n",
       "</tr>\n",
       "<tr>\n",
       "  <th>No. Observations:</th>      <td> 80000</td>      <th>  AIC:               </th>  <td>2.365e+05</td> \n",
       "</tr>\n",
       "<tr>\n",
       "  <th>Df Residuals:</th>          <td> 79991</td>      <th>  BIC:               </th>  <td>2.366e+05</td> \n",
       "</tr>\n",
       "<tr>\n",
       "  <th>Df Model:</th>              <td>     8</td>      <th>                     </th>      <td> </td>     \n",
       "</tr>\n",
       "<tr>\n",
       "  <th>Covariance Type:</th>      <td>nonrobust</td>    <th>                     </th>      <td> </td>     \n",
       "</tr>\n",
       "</table>\n",
       "<table class=\"simpletable\">\n",
       "<tr>\n",
       "                 <td></td>                   <th>coef</th>     <th>std err</th>      <th>t</th>      <th>P>|t|</th>  <th>[0.025</th>    <th>0.975]</th>  \n",
       "</tr>\n",
       "<tr>\n",
       "  <th>Intercept</th>                      <td>    5.3368</td> <td>    0.009</td> <td>  614.174</td> <td> 0.000</td> <td>    5.320</td> <td>    5.354</td>\n",
       "</tr>\n",
       "<tr>\n",
       "  <th>smoking_history[T.current]</th>     <td>    0.0326</td> <td>    0.014</td> <td>    2.332</td> <td> 0.020</td> <td>    0.005</td> <td>    0.060</td>\n",
       "</tr>\n",
       "<tr>\n",
       "  <th>smoking_history[T.ever]</th>        <td>    0.0487</td> <td>    0.020</td> <td>    2.434</td> <td> 0.015</td> <td>    0.009</td> <td>    0.088</td>\n",
       "</tr>\n",
       "<tr>\n",
       "  <th>smoking_history[T.former]</th>      <td>    0.0652</td> <td>    0.014</td> <td>    4.532</td> <td> 0.000</td> <td>    0.037</td> <td>    0.093</td>\n",
       "</tr>\n",
       "<tr>\n",
       "  <th>smoking_history[T.never]</th>       <td>    0.0296</td> <td>    0.009</td> <td>    3.255</td> <td> 0.001</td> <td>    0.012</td> <td>    0.047</td>\n",
       "</tr>\n",
       "<tr>\n",
       "  <th>smoking_history[T.not current]</th> <td>    0.0432</td> <td>    0.016</td> <td>    2.652</td> <td> 0.008</td> <td>    0.011</td> <td>    0.075</td>\n",
       "</tr>\n",
       "<tr>\n",
       "  <th>heart_disease</th>                  <td>    0.2206</td> <td>    0.020</td> <td>   11.077</td> <td> 0.000</td> <td>    0.182</td> <td>    0.260</td>\n",
       "</tr>\n",
       "<tr>\n",
       "  <th>hypertension</th>                   <td>    0.2282</td> <td>    0.015</td> <td>   15.456</td> <td> 0.000</td> <td>    0.199</td> <td>    0.257</td>\n",
       "</tr>\n",
       "<tr>\n",
       "  <th>age</th>                            <td>    0.0033</td> <td>    0.000</td> <td>   17.952</td> <td> 0.000</td> <td>    0.003</td> <td>    0.004</td>\n",
       "</tr>\n",
       "</table>\n",
       "<table class=\"simpletable\">\n",
       "<tr>\n",
       "  <th>Omnibus:</th>       <td>244.906</td> <th>  Durbin-Watson:     </th> <td>   2.004</td>\n",
       "</tr>\n",
       "<tr>\n",
       "  <th>Prob(Omnibus):</th> <td> 0.000</td>  <th>  Jarque-Bera (JB):  </th> <td> 248.493</td>\n",
       "</tr>\n",
       "<tr>\n",
       "  <th>Skew:</th>          <td>-0.130</td>  <th>  Prob(JB):          </th> <td>1.10e-54</td>\n",
       "</tr>\n",
       "<tr>\n",
       "  <th>Kurtosis:</th>      <td> 3.085</td>  <th>  Cond. No.          </th> <td>    276.</td>\n",
       "</tr>\n",
       "</table><br/><br/>Notes:<br/>[1] Standard Errors assume that the covariance matrix of the errors is correctly specified."
      ],
      "text/latex": [
       "\\begin{center}\n",
       "\\begin{tabular}{lclc}\n",
       "\\toprule\n",
       "\\textbf{Dep. Variable:}                  &   HbA1c\\_level   & \\textbf{  R-squared:         } &      0.015   \\\\\n",
       "\\textbf{Model:}                          &       OLS        & \\textbf{  Adj. R-squared:    } &      0.015   \\\\\n",
       "\\textbf{Method:}                         &  Least Squares   & \\textbf{  F-statistic:       } &      154.0   \\\\\n",
       "\\textbf{Date:}                           & Tue, 23 Apr 2024 & \\textbf{  Prob (F-statistic):} &  1.45e-258   \\\\\n",
       "\\textbf{Time:}                           &     21:22:58     & \\textbf{  Log-Likelihood:    } & -1.1826e+05  \\\\\n",
       "\\textbf{No. Observations:}               &       80000      & \\textbf{  AIC:               } &  2.365e+05   \\\\\n",
       "\\textbf{Df Residuals:}                   &       79991      & \\textbf{  BIC:               } &  2.366e+05   \\\\\n",
       "\\textbf{Df Model:}                       &           8      & \\textbf{                     } &              \\\\\n",
       "\\textbf{Covariance Type:}                &    nonrobust     & \\textbf{                     } &              \\\\\n",
       "\\bottomrule\n",
       "\\end{tabular}\n",
       "\\begin{tabular}{lcccccc}\n",
       "                                         & \\textbf{coef} & \\textbf{std err} & \\textbf{t} & \\textbf{P$> |$t$|$} & \\textbf{[0.025} & \\textbf{0.975]}  \\\\\n",
       "\\midrule\n",
       "\\textbf{Intercept}                       &       5.3368  &        0.009     &   614.174  &         0.000        &        5.320    &        5.354     \\\\\n",
       "\\textbf{smoking\\_history[T.current]}     &       0.0326  &        0.014     &     2.332  &         0.020        &        0.005    &        0.060     \\\\\n",
       "\\textbf{smoking\\_history[T.ever]}        &       0.0487  &        0.020     &     2.434  &         0.015        &        0.009    &        0.088     \\\\\n",
       "\\textbf{smoking\\_history[T.former]}      &       0.0652  &        0.014     &     4.532  &         0.000        &        0.037    &        0.093     \\\\\n",
       "\\textbf{smoking\\_history[T.never]}       &       0.0296  &        0.009     &     3.255  &         0.001        &        0.012    &        0.047     \\\\\n",
       "\\textbf{smoking\\_history[T.not current]} &       0.0432  &        0.016     &     2.652  &         0.008        &        0.011    &        0.075     \\\\\n",
       "\\textbf{heart\\_disease}                  &       0.2206  &        0.020     &    11.077  &         0.000        &        0.182    &        0.260     \\\\\n",
       "\\textbf{hypertension}                    &       0.2282  &        0.015     &    15.456  &         0.000        &        0.199    &        0.257     \\\\\n",
       "\\textbf{age}                             &       0.0033  &        0.000     &    17.952  &         0.000        &        0.003    &        0.004     \\\\\n",
       "\\bottomrule\n",
       "\\end{tabular}\n",
       "\\begin{tabular}{lclc}\n",
       "\\textbf{Omnibus:}       & 244.906 & \\textbf{  Durbin-Watson:     } &    2.004  \\\\\n",
       "\\textbf{Prob(Omnibus):} &   0.000 & \\textbf{  Jarque-Bera (JB):  } &  248.493  \\\\\n",
       "\\textbf{Skew:}          &  -0.130 & \\textbf{  Prob(JB):          } & 1.10e-54  \\\\\n",
       "\\textbf{Kurtosis:}      &   3.085 & \\textbf{  Cond. No.          } &     276.  \\\\\n",
       "\\bottomrule\n",
       "\\end{tabular}\n",
       "%\\caption{OLS Regression Results}\n",
       "\\end{center}\n",
       "\n",
       "Notes: \\newline\n",
       " [1] Standard Errors assume that the covariance matrix of the errors is correctly specified."
      ],
      "text/plain": [
       "<class 'statsmodels.iolib.summary.Summary'>\n",
       "\"\"\"\n",
       "                            OLS Regression Results                            \n",
       "==============================================================================\n",
       "Dep. Variable:            HbA1c_level   R-squared:                       0.015\n",
       "Model:                            OLS   Adj. R-squared:                  0.015\n",
       "Method:                 Least Squares   F-statistic:                     154.0\n",
       "Date:                Tue, 23 Apr 2024   Prob (F-statistic):          1.45e-258\n",
       "Time:                        21:22:58   Log-Likelihood:            -1.1826e+05\n",
       "No. Observations:               80000   AIC:                         2.365e+05\n",
       "Df Residuals:                   79991   BIC:                         2.366e+05\n",
       "Df Model:                           8                                         \n",
       "Covariance Type:            nonrobust                                         \n",
       "==================================================================================================\n",
       "                                     coef    std err          t      P>|t|      [0.025      0.975]\n",
       "--------------------------------------------------------------------------------------------------\n",
       "Intercept                          5.3368      0.009    614.174      0.000       5.320       5.354\n",
       "smoking_history[T.current]         0.0326      0.014      2.332      0.020       0.005       0.060\n",
       "smoking_history[T.ever]            0.0487      0.020      2.434      0.015       0.009       0.088\n",
       "smoking_history[T.former]          0.0652      0.014      4.532      0.000       0.037       0.093\n",
       "smoking_history[T.never]           0.0296      0.009      3.255      0.001       0.012       0.047\n",
       "smoking_history[T.not current]     0.0432      0.016      2.652      0.008       0.011       0.075\n",
       "heart_disease                      0.2206      0.020     11.077      0.000       0.182       0.260\n",
       "hypertension                       0.2282      0.015     15.456      0.000       0.199       0.257\n",
       "age                                0.0033      0.000     17.952      0.000       0.003       0.004\n",
       "==============================================================================\n",
       "Omnibus:                      244.906   Durbin-Watson:                   2.004\n",
       "Prob(Omnibus):                  0.000   Jarque-Bera (JB):              248.493\n",
       "Skew:                          -0.130   Prob(JB):                     1.10e-54\n",
       "Kurtosis:                       3.085   Cond. No.                         276.\n",
       "==============================================================================\n",
       "\n",
       "Notes:\n",
       "[1] Standard Errors assume that the covariance matrix of the errors is correctly specified.\n",
       "\"\"\""
      ]
     },
     "execution_count": 16,
     "metadata": {},
     "output_type": "execute_result"
    }
   ],
   "source": [
    "results = smf.ols(\"HbA1c_level ~ smoking_history + heart_disease + hypertension + age\", data = df_train).fit()\n",
    "results.summary()"
   ]
  },
  {
   "cell_type": "markdown",
   "metadata": {},
   "source": [
    "Predicted HbA1c_level (ŷ)= 5.3368 + 0.0326*smoking_history[T.current] + 0.2206*heart_disease + 0.2282*hypertension + 0.0033*age"
   ]
  },
  {
   "cell_type": "markdown",
   "metadata": {},
   "source": [
    "**Examining the relationship between variables:**\n",
    "\n",
    "Note: The baseline level for smoking history is \"no info\".\n",
    "\n",
    "The slope coefficient is 0.0362, meaning current smokers have an average HbA1c level that is 0.0362 units higher than those for whom there is no smoking history information, keeping all other variables constant."
   ]
  },
  {
   "cell_type": "markdown",
   "metadata": {},
   "source": [
    "**Confidence Interval:**\n",
    "\n",
    "I'm 95% confident that the population slope for how the person who currently smokes affects the chances of that person having diabetes is contained in the interval (0.005, 0.060)."
   ]
  },
  {
   "cell_type": "code",
   "execution_count": 45,
   "metadata": {},
   "outputs": [],
   "source": [
    "X = df[['age','hypertension','heart_disease','smoking_history']]"
   ]
  },
  {
   "cell_type": "code",
   "execution_count": 18,
   "metadata": {},
   "outputs": [],
   "source": [
    "y=df['HbA1c_level']"
   ]
  },
  {
   "cell_type": "code",
   "execution_count": 19,
   "metadata": {},
   "outputs": [
    {
     "data": {
      "image/png": "[encoded data removed]",
      "text/plain": [
       "<Figure size 640x480 with 1 Axes>"
      ]
     },
     "metadata": {},
     "output_type": "display_data"
    }
   ],
   "source": [
    "y_pred = results.predict(X)\n",
    "residuals = y - y_pred\n",
    "\n",
    "plt.scatter(y_pred, residuals)\n",
    "plt.axhline(y=0, color='r', linestyle='--')\n",
    "plt.xlabel('Fitted (Predicted) values')\n",
    "plt.ylabel('Residuals')\n",
    "plt.title('Initial Model \\n Fitted values vs. Residuals Plot')\n",
    "plt.show()"
   ]
  },
  {
   "cell_type": "markdown",
   "metadata": {},
   "source": [
    "**Model Perfomance:**"
   ]
  },
  {
   "cell_type": "markdown",
   "metadata": {},
   "source": [
    "R² interpretation:\n",
    "\n",
    "R² = 0.015\n",
    "\n",
    "An R-squared score of 0.015 indicates that the model explains 1.5% of the variability in the response variable, based on the data used to train the model. This value means that the model's ability to predict or account for the variations in the response variable is very limited."
   ]
  },
  {
   "cell_type": "code",
   "execution_count": 42,
   "metadata": {},
   "outputs": [],
   "source": [
    "y_ = df_test['heart_disease']"
   ]
  },
  {
   "cell_type": "code",
   "execution_count": 43,
   "metadata": {},
   "outputs": [
    {
     "data": {
      "text/plain": [
       "9706    -5.5574\n",
       "28870   -5.5574\n",
       "88242   -5.5574\n",
       "29522   -5.5574\n",
       "44512   -5.5574\n",
       "          ...  \n",
       "34243   -4.5574\n",
       "34396   -5.5574\n",
       "95025   -5.5574\n",
       "514     -5.5574\n",
       "96046   -4.5574\n",
       "Name: heart_disease, Length: 20000, dtype: float64"
      ]
     },
     "execution_count": 43,
     "metadata": {},
     "output_type": "execute_result"
    }
   ],
   "source": [
    "residual_ = y_ - 5.5574\n",
    "residual_"
   ]
  },
  {
   "cell_type": "markdown",
   "metadata": {},
   "source": [
    "**RMSE calculations for test and training datasets:**"
   ]
  },
  {
   "cell_type": "code",
   "execution_count": 40,
   "metadata": {},
   "outputs": [
    {
     "data": {
      "text/plain": [
       "1.0610860467168293"
      ]
     },
     "execution_count": 40,
     "metadata": {},
     "output_type": "execute_result"
    }
   ],
   "source": [
    "rmse = np.sqrt((1/80000 * np.sum((df['HbA1c_level'] - results.predict(df_train))**2)))\n",
    "rmse"
   ]
  },
  {
   "cell_type": "code",
   "execution_count": 41,
   "metadata": {},
   "outputs": [
    {
     "data": {
      "text/plain": [
       "0.5335092239221593"
      ]
     },
     "execution_count": 41,
     "metadata": {},
     "output_type": "execute_result"
    }
   ],
   "source": [
    "rmse = np.sqrt((1/80000 * np.sum((df['HbA1c_level'] - results.predict(df_test))**2)))\n",
    "rmse"
   ]
  },
  {
   "cell_type": "markdown",
   "metadata": {},
   "source": [
    "We would ideally want the rmse values close to 0. Here, the rmse value for training dataset is 1.0610860467168293, while lower for the testing dataset 0.5335092239221593. Although not near 0, the testing dataset rmse value is lower than that of the training which shows us that the model error for HbA1c_level is lower in the testing dataset. "
   ]
  },
  {
   "cell_type": "markdown",
   "metadata": {},
   "source": [
    "**Conclusion:**\n",
    "\n",
    "With a lower R² value of .015, it indicates that the model explains only 1.5% of the variability in the response variable, based on the data used to train the model. This value means that the model's ability to predict or account for the variations in the response variable is very limited. Along with that, the fitted vs residual plot is unusual with patterns that are not linear. All of these make us believe that linear regression might not be the right model for evaluating the effect of predictor variables like age, hypertension, and heart disease on our response variable HbA1c_level. "
   ]
  },
  {
   "cell_type": "markdown",
   "metadata": {},
   "source": [
    "## 3. Logistic Regression Analytical Tasks"
   ]
  },
  {
   "cell_type": "markdown",
   "metadata": {},
   "source": [
    "**Research Question:**\n",
    "Is there a linear relationship between the log-odds of getting diabetes and bmi, hemoglobin levels, and blood glucose levels in the data?"
   ]
  },
  {
   "cell_type": "markdown",
   "metadata": {},
   "source": [
    "**Logistic Regression Model:**"
   ]
  },
  {
   "cell_type": "code",
   "execution_count": 29,
   "metadata": {},
   "outputs": [],
   "source": [
    "#1 indicates presence of diabetes and 0 represents no presence of diabetes\n",
    "df_1 = pd.read_csv(\"diabetes_prediction_dataset.csv\")\n",
    "df_1train, df_1test = train_test_split(df_1, test_size = 0.2, random_state = 2026)"
   ]
  },
  {
   "cell_type": "code",
   "execution_count": 30,
   "metadata": {},
   "outputs": [
    {
     "name": "stdout",
     "output_type": "stream",
     "text": [
      "Optimization terminated successfully.\n",
      "         Current function value: 0.132003\n",
      "         Iterations 9\n"
     ]
    },
    {
     "data": {
      "text/html": [
       "<table class=\"simpletable\">\n",
       "<caption>Logit Regression Results</caption>\n",
       "<tr>\n",
       "  <th>Dep. Variable:</th>       <td>diabetes</td>     <th>  No. Observations:  </th>  <td> 80000</td> \n",
       "</tr>\n",
       "<tr>\n",
       "  <th>Model:</th>                 <td>Logit</td>      <th>  Df Residuals:      </th>  <td> 79996</td> \n",
       "</tr>\n",
       "<tr>\n",
       "  <th>Method:</th>                 <td>MLE</td>       <th>  Df Model:          </th>  <td>     3</td> \n",
       "</tr>\n",
       "<tr>\n",
       "  <th>Date:</th>            <td>Mon, 22 Apr 2024</td> <th>  Pseudo R-squ.:     </th>  <td>0.5436</td> \n",
       "</tr>\n",
       "<tr>\n",
       "  <th>Time:</th>                <td>13:13:41</td>     <th>  Log-Likelihood:    </th> <td> -10560.</td>\n",
       "</tr>\n",
       "<tr>\n",
       "  <th>converged:</th>             <td>True</td>       <th>  LL-Null:           </th> <td> -23139.</td>\n",
       "</tr>\n",
       "<tr>\n",
       "  <th>Covariance Type:</th>     <td>nonrobust</td>    <th>  LLR p-value:       </th>  <td> 0.000</td> \n",
       "</tr>\n",
       "</table>\n",
       "<table class=\"simpletable\">\n",
       "<tr>\n",
       "           <td></td>              <th>coef</th>     <th>std err</th>      <th>z</th>      <th>P>|z|</th>  <th>[0.025</th>    <th>0.975]</th>  \n",
       "</tr>\n",
       "<tr>\n",
       "  <th>Intercept</th>           <td>  -25.3029</td> <td>    0.289</td> <td>  -87.516</td> <td> 0.000</td> <td>  -25.870</td> <td>  -24.736</td>\n",
       "</tr>\n",
       "<tr>\n",
       "  <th>HbA1c_level</th>         <td>    2.3870</td> <td>    0.038</td> <td>   62.516</td> <td> 0.000</td> <td>    2.312</td> <td>    2.462</td>\n",
       "</tr>\n",
       "<tr>\n",
       "  <th>bmi</th>                 <td>    0.0970</td> <td>    0.002</td> <td>   39.196</td> <td> 0.000</td> <td>    0.092</td> <td>    0.102</td>\n",
       "</tr>\n",
       "<tr>\n",
       "  <th>blood_glucose_level</th> <td>    0.0341</td> <td>    0.000</td> <td>   68.868</td> <td> 0.000</td> <td>    0.033</td> <td>    0.035</td>\n",
       "</tr>\n",
       "</table>"
      ],
      "text/latex": [
       "\\begin{center}\n",
       "\\begin{tabular}{lclc}\n",
       "\\toprule\n",
       "\\textbf{Dep. Variable:}        &     diabetes     & \\textbf{  No. Observations:  } &    80000    \\\\\n",
       "\\textbf{Model:}                &      Logit       & \\textbf{  Df Residuals:      } &    79996    \\\\\n",
       "\\textbf{Method:}               &       MLE        & \\textbf{  Df Model:          } &        3    \\\\\n",
       "\\textbf{Date:}                 & Mon, 22 Apr 2024 & \\textbf{  Pseudo R-squ.:     } &   0.5436    \\\\\n",
       "\\textbf{Time:}                 &     13:13:41     & \\textbf{  Log-Likelihood:    } &   -10560.   \\\\\n",
       "\\textbf{converged:}            &       True       & \\textbf{  LL-Null:           } &   -23139.   \\\\\n",
       "\\textbf{Covariance Type:}      &    nonrobust     & \\textbf{  LLR p-value:       } &    0.000    \\\\\n",
       "\\bottomrule\n",
       "\\end{tabular}\n",
       "\\begin{tabular}{lcccccc}\n",
       "                               & \\textbf{coef} & \\textbf{std err} & \\textbf{z} & \\textbf{P$> |$z$|$} & \\textbf{[0.025} & \\textbf{0.975]}  \\\\\n",
       "\\midrule\n",
       "\\textbf{Intercept}             &     -25.3029  &        0.289     &   -87.516  &         0.000        &      -25.870    &      -24.736     \\\\\n",
       "\\textbf{HbA1c\\_level}          &       2.3870  &        0.038     &    62.516  &         0.000        &        2.312    &        2.462     \\\\\n",
       "\\textbf{bmi}                   &       0.0970  &        0.002     &    39.196  &         0.000        &        0.092    &        0.102     \\\\\n",
       "\\textbf{blood\\_glucose\\_level} &       0.0341  &        0.000     &    68.868  &         0.000        &        0.033    &        0.035     \\\\\n",
       "\\bottomrule\n",
       "\\end{tabular}\n",
       "%\\caption{Logit Regression Results}\n",
       "\\end{center}"
      ],
      "text/plain": [
       "<class 'statsmodels.iolib.summary.Summary'>\n",
       "\"\"\"\n",
       "                           Logit Regression Results                           \n",
       "==============================================================================\n",
       "Dep. Variable:               diabetes   No. Observations:                80000\n",
       "Model:                          Logit   Df Residuals:                    79996\n",
       "Method:                           MLE   Df Model:                            3\n",
       "Date:                Mon, 22 Apr 2024   Pseudo R-squ.:                  0.5436\n",
       "Time:                        13:13:41   Log-Likelihood:                -10560.\n",
       "converged:                       True   LL-Null:                       -23139.\n",
       "Covariance Type:            nonrobust   LLR p-value:                     0.000\n",
       "=======================================================================================\n",
       "                          coef    std err          z      P>|z|      [0.025      0.975]\n",
       "---------------------------------------------------------------------------------------\n",
       "Intercept             -25.3029      0.289    -87.516      0.000     -25.870     -24.736\n",
       "HbA1c_level             2.3870      0.038     62.516      0.000       2.312       2.462\n",
       "bmi                     0.0970      0.002     39.196      0.000       0.092       0.102\n",
       "blood_glucose_level     0.0341      0.000     68.868      0.000       0.033       0.035\n",
       "=======================================================================================\n",
       "\"\"\""
      ]
     },
     "execution_count": 30,
     "metadata": {},
     "output_type": "execute_result"
    }
   ],
   "source": [
    "log_model = smf.logit(\"diabetes ~ HbA1c_level + bmi + blood_glucose_level\", data = df_1train).fit()\n",
    "log_model.summary()"
   ]
  },
  {
   "cell_type": "code",
   "execution_count": 33,
   "metadata": {},
   "outputs": [],
   "source": [
    "df_1train['predictive_prob'] = log_model.predict(df_1train)\n",
    "df_1train[['predictive_prob','diabetes']].head()\n",
    "\n",
    "fprs, tprs, thresholds = roc_curve(y_true = df_1train['diabetes'], \n",
    "                            y_score = df_1train['predictive_prob'])"
   ]
  },
  {
   "cell_type": "code",
   "execution_count": 36,
   "metadata": {},
   "outputs": [
    {
     "data": {
      "image/png": "[encoded data removed]",
      "text/plain": [
       "<Figure size 640x480 with 1 Axes>"
      ]
     },
     "metadata": {},
     "output_type": "display_data"
    }
   ],
   "source": [
    "def plot_roc(fpr, tpr, auc, lw=2):\n",
    "    plt.plot(fpr, tpr, color='darkorange', lw=lw,\n",
    "             label='ROC curve (area = '+str(round(auc,3))+')')\n",
    "    plt.plot([0, 1], [0, 1], color='navy', lw=lw, linestyle='--')\n",
    "    plt.xlabel('False Positive Rate')\n",
    "    plt.ylabel('True Positive Rate')\n",
    "    plt.title('ROC Curve')\n",
    "    plt.legend(loc=\"lower right\")\n",
    "    plt.show()\n",
    "auc = roc_auc_score(y_true=df_1train['diabetes'], \n",
    "                            y_score=df_1train['predictive_prob'])\n",
    "plot_roc(fprs, tprs, auc)"
   ]
  },
  {
   "cell_type": "markdown",
   "metadata": {},
   "source": [
    " - For an individual with hemoglobin levels of 1, the predicted log odds of having diabetes increases by 2.3870, on average, holding all other variables constant. Higher hemoglobin levels are associated with higher probability of success (success = having diabetes).\n",
    " - For an individual with bmi levels of 1, the predicted log odds of having diabetes increases by 0.0970, on average, holding all other variables constant. Higher bmi levels are associated with higher probability of success (success = having diabetes).\n",
    " - For an individual with blood glucose levels of 1, the predicted log odds of having diabetes increases by 0.0341, on average, holding all other variables constant. Higher blood glucose levels are associated with higher probability of success (success = having diabetes)."
   ]
  },
  {
   "cell_type": "markdown",
   "metadata": {},
   "source": [
    "With an AUC score of 0.939, the model has a predictive probability threshold that performs well. An pseudo-R^2 value of 0.5436 indicates that the explanatory variables in the model perform well and the model is a good fit."
   ]
  },
  {
   "cell_type": "markdown",
   "metadata": {},
   "source": [
    "**Building our Classifier:**\n",
    "\n",
    "Given the context of this data, we would want to minimize the likelihood of a false negative. A false negative would predict that a given patient does not have diabetes when in reality they do. Finding treatment early on and ways to prevent diabetes can be important. If a patient is told they do not have signs of diabetes (when they truly do), they may never get it checked out and end up suffering when it eventually comes.\n",
    "\n",
    "A false positive would be a lot less detrimental in comparison to a false negative. If we want to minimize the likelihood of a false negative, we would want to increase the TPR as much as possible without sacrificing the FPR. The predictive probability threshold we chose would be somewhere between (0, 0.1)"
   ]
  },
  {
   "cell_type": "markdown",
   "metadata": {},
   "source": [
    "**Evaluating our Classifier:**"
   ]
  },
  {
   "cell_type": "code",
   "execution_count": 38,
   "metadata": {},
   "outputs": [
    {
     "name": "stdout",
     "output_type": "stream",
     "text": [
      "0.7905027322404372 0.79796 0.8782352941176471\n"
     ]
    }
   ],
   "source": [
    "df_1[\"phat\"] = log_model.predict(df)\n",
    "df_1[\"yhat\"] = 1*(df_1[\"phat\"] >= 0.05)\n",
    "spec = 72331/(72331 + 19169)\n",
    "acc_rate = (72331 + 7465)/(7465 + 1035 + 72331 + 19169)\n",
    "sens = 7465/(7465 + 1035)\n",
    "pd.crosstab(df_1[\"yhat\"],df_1[\"diabetes\"])\n",
    "print(spec, acc_rate, sens)"
   ]
  },
  {
   "cell_type": "markdown",
   "metadata": {},
   "source": [
    "- The specificity is 0.7905027322404372\n",
    "- The accuracy rate is 0.79796\n",
    "- The sensitivity is 0.8782352941176471"
   ]
  },
  {
   "cell_type": "markdown",
   "metadata": {},
   "source": [
    "**Conclusions:**\n",
    "With a relatively high AUC and pseudo R^2 value, we have evidence to suggest that the explanatory variables used (hemoglobin levels, bmi, and blood glucose levels) provide a good model to assess the likelihood of an individual developing diabetes. Using a low predictive probability threshold reduces the chance of an individual getting a false negative. Minimizing a low false negative rate is important to ensure the safety of individuals and make sure that they get treatment if necessary."
   ]
  },
  {
   "cell_type": "markdown",
   "metadata": {},
   "source": [
    "## 4. Conclusion"
   ]
  },
  {
   "cell_type": "markdown",
   "metadata": {},
   "source": [
    "### **Summarization:** \n",
    "Based on the linear regression model we fit, we're 95% confident that the population slope for how the person who currently smokes affects the chances of that person having diabetes is contained in the interval (0.005, 0.060). Alongside that, based on the logistic model with a relatively high AUC and pseudo R^2 value, we have evidence to suggest that the explanatory variables used (hemoglobin levels, bmi, and blood glucose levels) provide a good model to assess the likelihood of an individual developing diabetes. Using a low predictive probability threshold reduces the chance of an individual getting a false negative. Minimizing a low false negative rate is important to ensure the safety of individuals and make sure that they get treatment if necessary.\n",
    "\n",
    "### **Limitations:** \n",
    "There are several limitations to our analysis, results, and interpretations. Firstly, our dataset is limited in the different patient characteristics that may influence the likelihood of an individual having diabetes. Therefore, we cannot confidently state that the characteristics chosen for this research are the sole predictors in identifying diabetes. Furthermore, in this research, we only identify whether a patient has or does not have diabetes. There is no indication of what type of diabetes a patient has, which may be influenced by other factors. For those looking for treatment and prevention described in the introduction, different measures may be taken depending on the type of diabetes. \n",
    "\n",
    "### **Future Work:** \n",
    "For future analyses, it may be beneficial to explore the other variables that were not tested in this specific. For instance, patient sex was not used in our analyses but can offer the potential to be an important factor."
   ]
  }
 ],
 "metadata": {
  "kernelspec": {
   "display_name": "Python 3 (ipykernel)",
   "language": "python",
   "name": "python3"
  },
  "language_info": {
   "codemirror_mode": {
    "name": "ipython",
    "version": 3
   },
   "file_extension": ".py",
   "mimetype": "text/x-python",
   "name": "python",
   "nbconvert_exporter": "python",
   "pygments_lexer": "ipython3",
   "version": "3.12.2"
  }
 },
 "nbformat": 4,
 "nbformat_minor": 4
}
